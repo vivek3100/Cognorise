{
 "cells": [
  {
   "cell_type": "code",
   "execution_count": 1,
   "id": "7cc33abe",
   "metadata": {
    "_cell_guid": "b1076dfc-b9ad-4769-8c92-a6c4dae69d19",
    "_uuid": "8f2839f25d086af736a60e9eeb907d3b93b6e0e5",
    "execution": {
     "iopub.execute_input": "2021-11-19T04:10:45.164887Z",
     "iopub.status.busy": "2021-11-19T04:10:45.163395Z",
     "iopub.status.idle": "2021-11-19T04:10:53.675036Z",
     "shell.execute_reply": "2021-11-19T04:10:53.675698Z",
     "shell.execute_reply.started": "2021-11-19T03:15:40.110110Z"
    },
    "papermill": {
     "duration": 8.538959,
     "end_time": "2021-11-19T04:10:53.676083",
     "exception": false,
     "start_time": "2021-11-19T04:10:45.137124",
     "status": "completed"
    },
    "tags": []
   },
   "outputs": [
    {
     "name": "stdout",
     "output_type": "stream",
     "text": [
      "Requirement already satisfied: wordcloud in /opt/conda/lib/python3.7/site-packages (1.8.1)\r\n",
      "Requirement already satisfied: pillow in /opt/conda/lib/python3.7/site-packages (from wordcloud) (8.2.0)\r\n",
      "Requirement already satisfied: numpy>=1.6.1 in /opt/conda/lib/python3.7/site-packages (from wordcloud) (1.19.5)\r\n",
      "Requirement already satisfied: matplotlib in /opt/conda/lib/python3.7/site-packages (from wordcloud) (3.4.3)\r\n",
      "Requirement already satisfied: cycler>=0.10 in /opt/conda/lib/python3.7/site-packages (from matplotlib->wordcloud) (0.10.0)\r\n",
      "Requirement already satisfied: pyparsing>=2.2.1 in /opt/conda/lib/python3.7/site-packages (from matplotlib->wordcloud) (2.4.7)\r\n",
      "Requirement already satisfied: python-dateutil>=2.7 in /opt/conda/lib/python3.7/site-packages (from matplotlib->wordcloud) (2.8.0)\r\n",
      "Requirement already satisfied: kiwisolver>=1.0.1 in /opt/conda/lib/python3.7/site-packages (from matplotlib->wordcloud) (1.3.2)\r\n",
      "Requirement already satisfied: six in /opt/conda/lib/python3.7/site-packages (from cycler>=0.10->matplotlib->wordcloud) (1.16.0)\r\n",
      "\u001b[33mWARNING: Running pip as the 'root' user can result in broken permissions and conflicting behaviour with the system package manager. It is recommended to use a virtual environment instead: https://pip.pypa.io/warnings/venv\u001b[0m\r\n",
      "Note: you may need to restart the kernel to use updated packages.\n"
     ]
    }
   ],
   "source": [
    "pip install wordcloud"
   ]
  },
  {
   "cell_type": "code",
   "execution_count": 2,
   "id": "3887d38b",
   "metadata": {
    "execution": {
     "iopub.execute_input": "2021-11-19T04:10:53.731759Z",
     "iopub.status.busy": "2021-11-19T04:10:53.731023Z",
     "iopub.status.idle": "2021-11-19T04:10:55.066227Z",
     "shell.execute_reply": "2021-11-19T04:10:55.065642Z",
     "shell.execute_reply.started": "2021-11-19T03:16:03.089423Z"
    },
    "papermill": {
     "duration": 1.366195,
     "end_time": "2021-11-19T04:10:55.066352",
     "exception": false,
     "start_time": "2021-11-19T04:10:53.700157",
     "status": "completed"
    },
    "tags": []
   },
   "outputs": [],
   "source": [
    "%matplotlib inline\n",
    "import matplotlib.pyplot as plt\n",
    "import csv\n",
    "import sklearn\n",
    "import pickle\n",
    "from wordcloud import WordCloud\n",
    "import pandas as pd\n",
    "import numpy as np\n",
    "import nltk\n",
    "import os\n",
    "from nltk.corpus import stopwords\n",
    "import random\n",
    "from sklearn.model_selection import train_test_split\n",
    "from sklearn.feature_extraction.text import CountVectorizer, TfidfTransformer\n",
    "from sklearn.tree import DecisionTreeClassifier \n",
    "from sklearn.model_selection import GridSearchCV,train_test_split,StratifiedKFold,cross_val_score,learning_curve"
   ]
  },
  {
   "cell_type": "code",
   "execution_count": 3,
   "id": "fc516606",
   "metadata": {
    "execution": {
     "iopub.execute_input": "2021-11-19T04:10:55.114445Z",
     "iopub.status.busy": "2021-11-19T04:10:55.113912Z",
     "iopub.status.idle": "2021-11-19T04:11:01.843318Z",
     "shell.execute_reply": "2021-11-19T04:11:01.842774Z",
     "shell.execute_reply.started": "2021-11-19T03:16:04.465183Z"
    },
    "papermill": {
     "duration": 6.756055,
     "end_time": "2021-11-19T04:11:01.843460",
     "exception": false,
     "start_time": "2021-11-19T04:10:55.087405",
     "status": "completed"
    },
    "tags": []
   },
   "outputs": [],
   "source": [
    "import torch\n",
    "import torch.nn as nn\n",
    "from torch.utils.data import DataLoader\n",
    "from sklearn.metrics import mean_squared_error\n",
    "\n",
    "from transformers import AutoModel, AutoTokenizer\n",
    "import json\n",
    "from tensorflow.keras.models import load_model\n",
    "import re\n",
    "import pandas as pd\n",
    "import string\n",
    "import keras"
   ]
  },
  {
   "cell_type": "code",
   "execution_count": 4,
   "id": "3e86214b",
   "metadata": {
    "execution": {
     "iopub.execute_input": "2021-11-19T04:11:01.888893Z",
     "iopub.status.busy": "2021-11-19T04:11:01.888339Z",
     "iopub.status.idle": "2021-11-19T04:11:01.921061Z",
     "shell.execute_reply": "2021-11-19T04:11:01.920449Z",
     "shell.execute_reply.started": "2021-11-19T03:16:11.564571Z"
    },
    "papermill": {
     "duration": 0.057122,
     "end_time": "2021-11-19T04:11:01.921183",
     "exception": false,
     "start_time": "2021-11-19T04:11:01.864061",
     "status": "completed"
    },
    "tags": []
   },
   "outputs": [],
   "source": [
    "data = pd.read_csv('../input/spam-email/spam.csv')"
   ]
  },
  {
   "cell_type": "code",
   "execution_count": 5,
   "id": "de6434f9",
   "metadata": {
    "execution": {
     "iopub.execute_input": "2021-11-19T04:11:01.972087Z",
     "iopub.status.busy": "2021-11-19T04:11:01.971489Z",
     "iopub.status.idle": "2021-11-19T04:11:01.983914Z",
     "shell.execute_reply": "2021-11-19T04:11:01.984322Z",
     "shell.execute_reply.started": "2021-11-19T03:16:11.603641Z"
    },
    "papermill": {
     "duration": 0.042272,
     "end_time": "2021-11-19T04:11:01.984448",
     "exception": false,
     "start_time": "2021-11-19T04:11:01.942176",
     "status": "completed"
    },
    "tags": []
   },
   "outputs": [
    {
     "data": {
      "text/html": [
       "<div>\n",
       "<style scoped>\n",
       "    .dataframe tbody tr th:only-of-type {\n",
       "        vertical-align: middle;\n",
       "    }\n",
       "\n",
       "    .dataframe tbody tr th {\n",
       "        vertical-align: top;\n",
       "    }\n",
       "\n",
       "    .dataframe thead th {\n",
       "        text-align: right;\n",
       "    }\n",
       "</style>\n",
       "<table border=\"1\" class=\"dataframe\">\n",
       "  <thead>\n",
       "    <tr style=\"text-align: right;\">\n",
       "      <th></th>\n",
       "      <th>Category</th>\n",
       "      <th>Message</th>\n",
       "    </tr>\n",
       "  </thead>\n",
       "  <tbody>\n",
       "    <tr>\n",
       "      <th>0</th>\n",
       "      <td>ham</td>\n",
       "      <td>Go until jurong point, crazy.. Available only ...</td>\n",
       "    </tr>\n",
       "    <tr>\n",
       "      <th>1</th>\n",
       "      <td>ham</td>\n",
       "      <td>Ok lar... Joking wif u oni...</td>\n",
       "    </tr>\n",
       "    <tr>\n",
       "      <th>2</th>\n",
       "      <td>spam</td>\n",
       "      <td>Free entry in 2 a wkly comp to win FA Cup fina...</td>\n",
       "    </tr>\n",
       "    <tr>\n",
       "      <th>3</th>\n",
       "      <td>ham</td>\n",
       "      <td>U dun say so early hor... U c already then say...</td>\n",
       "    </tr>\n",
       "    <tr>\n",
       "      <th>4</th>\n",
       "      <td>ham</td>\n",
       "      <td>Nah I don't think he goes to usf, he lives aro...</td>\n",
       "    </tr>\n",
       "    <tr>\n",
       "      <th>...</th>\n",
       "      <td>...</td>\n",
       "      <td>...</td>\n",
       "    </tr>\n",
       "    <tr>\n",
       "      <th>5567</th>\n",
       "      <td>spam</td>\n",
       "      <td>This is the 2nd time we have tried 2 contact u...</td>\n",
       "    </tr>\n",
       "    <tr>\n",
       "      <th>5568</th>\n",
       "      <td>ham</td>\n",
       "      <td>Will ü b going to esplanade fr home?</td>\n",
       "    </tr>\n",
       "    <tr>\n",
       "      <th>5569</th>\n",
       "      <td>ham</td>\n",
       "      <td>Pity, * was in mood for that. So...any other s...</td>\n",
       "    </tr>\n",
       "    <tr>\n",
       "      <th>5570</th>\n",
       "      <td>ham</td>\n",
       "      <td>The guy did some bitching but I acted like i'd...</td>\n",
       "    </tr>\n",
       "    <tr>\n",
       "      <th>5571</th>\n",
       "      <td>ham</td>\n",
       "      <td>Rofl. Its true to its name</td>\n",
       "    </tr>\n",
       "  </tbody>\n",
       "</table>\n",
       "<p>5572 rows × 2 columns</p>\n",
       "</div>"
      ],
      "text/plain": [
       "     Category                                            Message\n",
       "0         ham  Go until jurong point, crazy.. Available only ...\n",
       "1         ham                      Ok lar... Joking wif u oni...\n",
       "2        spam  Free entry in 2 a wkly comp to win FA Cup fina...\n",
       "3         ham  U dun say so early hor... U c already then say...\n",
       "4         ham  Nah I don't think he goes to usf, he lives aro...\n",
       "...       ...                                                ...\n",
       "5567     spam  This is the 2nd time we have tried 2 contact u...\n",
       "5568      ham               Will ü b going to esplanade fr home?\n",
       "5569      ham  Pity, * was in mood for that. So...any other s...\n",
       "5570      ham  The guy did some bitching but I acted like i'd...\n",
       "5571      ham                         Rofl. Its true to its name\n",
       "\n",
       "[5572 rows x 2 columns]"
      ]
     },
     "execution_count": 5,
     "metadata": {},
     "output_type": "execute_result"
    }
   ],
   "source": [
    "data"
   ]
  },
  {
   "cell_type": "code",
   "execution_count": 6,
   "id": "4db05746",
   "metadata": {
    "execution": {
     "iopub.execute_input": "2021-11-19T04:11:02.036361Z",
     "iopub.status.busy": "2021-11-19T04:11:02.035815Z",
     "iopub.status.idle": "2021-11-19T04:11:02.038424Z",
     "shell.execute_reply": "2021-11-19T04:11:02.038882Z",
     "shell.execute_reply.started": "2021-11-19T03:16:11.626727Z"
    },
    "papermill": {
     "duration": 0.033661,
     "end_time": "2021-11-19T04:11:02.039022",
     "exception": false,
     "start_time": "2021-11-19T04:11:02.005361",
     "status": "completed"
    },
    "tags": []
   },
   "outputs": [],
   "source": [
    "idx = [i for i in range(5572)]\n",
    "data['id'] = idx"
   ]
  },
  {
   "cell_type": "code",
   "execution_count": 7,
   "id": "7cb66afc",
   "metadata": {
    "execution": {
     "iopub.execute_input": "2021-11-19T04:11:02.085429Z",
     "iopub.status.busy": "2021-11-19T04:11:02.084659Z",
     "iopub.status.idle": "2021-11-19T04:11:02.093275Z",
     "shell.execute_reply": "2021-11-19T04:11:02.093720Z",
     "shell.execute_reply.started": "2021-11-19T03:16:11.639547Z"
    },
    "papermill": {
     "duration": 0.033837,
     "end_time": "2021-11-19T04:11:02.093846",
     "exception": false,
     "start_time": "2021-11-19T04:11:02.060009",
     "status": "completed"
    },
    "tags": []
   },
   "outputs": [
    {
     "data": {
      "text/html": [
       "<div>\n",
       "<style scoped>\n",
       "    .dataframe tbody tr th:only-of-type {\n",
       "        vertical-align: middle;\n",
       "    }\n",
       "\n",
       "    .dataframe tbody tr th {\n",
       "        vertical-align: top;\n",
       "    }\n",
       "\n",
       "    .dataframe thead th {\n",
       "        text-align: right;\n",
       "    }\n",
       "</style>\n",
       "<table border=\"1\" class=\"dataframe\">\n",
       "  <thead>\n",
       "    <tr style=\"text-align: right;\">\n",
       "      <th></th>\n",
       "      <th>Category</th>\n",
       "      <th>Message</th>\n",
       "      <th>id</th>\n",
       "    </tr>\n",
       "  </thead>\n",
       "  <tbody>\n",
       "    <tr>\n",
       "      <th>0</th>\n",
       "      <td>ham</td>\n",
       "      <td>Go until jurong point, crazy.. Available only ...</td>\n",
       "      <td>0</td>\n",
       "    </tr>\n",
       "    <tr>\n",
       "      <th>1</th>\n",
       "      <td>ham</td>\n",
       "      <td>Ok lar... Joking wif u oni...</td>\n",
       "      <td>1</td>\n",
       "    </tr>\n",
       "    <tr>\n",
       "      <th>2</th>\n",
       "      <td>spam</td>\n",
       "      <td>Free entry in 2 a wkly comp to win FA Cup fina...</td>\n",
       "      <td>2</td>\n",
       "    </tr>\n",
       "    <tr>\n",
       "      <th>3</th>\n",
       "      <td>ham</td>\n",
       "      <td>U dun say so early hor... U c already then say...</td>\n",
       "      <td>3</td>\n",
       "    </tr>\n",
       "    <tr>\n",
       "      <th>4</th>\n",
       "      <td>ham</td>\n",
       "      <td>Nah I don't think he goes to usf, he lives aro...</td>\n",
       "      <td>4</td>\n",
       "    </tr>\n",
       "    <tr>\n",
       "      <th>...</th>\n",
       "      <td>...</td>\n",
       "      <td>...</td>\n",
       "      <td>...</td>\n",
       "    </tr>\n",
       "    <tr>\n",
       "      <th>5567</th>\n",
       "      <td>spam</td>\n",
       "      <td>This is the 2nd time we have tried 2 contact u...</td>\n",
       "      <td>5567</td>\n",
       "    </tr>\n",
       "    <tr>\n",
       "      <th>5568</th>\n",
       "      <td>ham</td>\n",
       "      <td>Will ü b going to esplanade fr home?</td>\n",
       "      <td>5568</td>\n",
       "    </tr>\n",
       "    <tr>\n",
       "      <th>5569</th>\n",
       "      <td>ham</td>\n",
       "      <td>Pity, * was in mood for that. So...any other s...</td>\n",
       "      <td>5569</td>\n",
       "    </tr>\n",
       "    <tr>\n",
       "      <th>5570</th>\n",
       "      <td>ham</td>\n",
       "      <td>The guy did some bitching but I acted like i'd...</td>\n",
       "      <td>5570</td>\n",
       "    </tr>\n",
       "    <tr>\n",
       "      <th>5571</th>\n",
       "      <td>ham</td>\n",
       "      <td>Rofl. Its true to its name</td>\n",
       "      <td>5571</td>\n",
       "    </tr>\n",
       "  </tbody>\n",
       "</table>\n",
       "<p>5572 rows × 3 columns</p>\n",
       "</div>"
      ],
      "text/plain": [
       "     Category                                            Message    id\n",
       "0         ham  Go until jurong point, crazy.. Available only ...     0\n",
       "1         ham                      Ok lar... Joking wif u oni...     1\n",
       "2        spam  Free entry in 2 a wkly comp to win FA Cup fina...     2\n",
       "3         ham  U dun say so early hor... U c already then say...     3\n",
       "4         ham  Nah I don't think he goes to usf, he lives aro...     4\n",
       "...       ...                                                ...   ...\n",
       "5567     spam  This is the 2nd time we have tried 2 contact u...  5567\n",
       "5568      ham               Will ü b going to esplanade fr home?  5568\n",
       "5569      ham  Pity, * was in mood for that. So...any other s...  5569\n",
       "5570      ham  The guy did some bitching but I acted like i'd...  5570\n",
       "5571      ham                         Rofl. Its true to its name  5571\n",
       "\n",
       "[5572 rows x 3 columns]"
      ]
     },
     "execution_count": 7,
     "metadata": {},
     "output_type": "execute_result"
    }
   ],
   "source": [
    "data"
   ]
  },
  {
   "cell_type": "code",
   "execution_count": 8,
   "id": "51dd8b1d",
   "metadata": {
    "execution": {
     "iopub.execute_input": "2021-11-19T04:11:02.141398Z",
     "iopub.status.busy": "2021-11-19T04:11:02.140909Z",
     "iopub.status.idle": "2021-11-19T04:11:03.006091Z",
     "shell.execute_reply": "2021-11-19T04:11:03.006470Z",
     "shell.execute_reply.started": "2021-11-19T03:16:11.654712Z"
    },
    "papermill": {
     "duration": 0.891297,
     "end_time": "2021-11-19T04:11:03.006639",
     "exception": false,
     "start_time": "2021-11-19T04:11:02.115342",
     "status": "completed"
    },
    "tags": []
   },
   "outputs": [
    {
     "data": {
      "text/plain": [
       "array([<AxesSubplot:title={'center':'ham'}>,\n",
       "       <AxesSubplot:title={'center':'spam'}>], dtype=object)"
      ]
     },
     "execution_count": 8,
     "metadata": {},
     "output_type": "execute_result"
    },
    {
     "data": {
      "image/png": "[encoded data removed]",
      "text/plain": [
       "<Figure size 1440x504 with 2 Axes>"
      ]
     },
     "metadata": {
      "needs_background": "light"
     },
     "output_type": "display_data"
    }
   ],
   "source": [
    "data.hist(column='id', by='Category', bins=100, figsize=(20,7))"
   ]
  },
  {
   "cell_type": "code",
   "execution_count": 9,
   "id": "ecd12453",
   "metadata": {
    "execution": {
     "iopub.execute_input": "2021-11-19T04:11:03.055718Z",
     "iopub.status.busy": "2021-11-19T04:11:03.055018Z",
     "iopub.status.idle": "2021-11-19T04:11:10.435531Z",
     "shell.execute_reply": "2021-11-19T04:11:10.436433Z",
     "shell.execute_reply.started": "2021-11-19T03:17:43.898436Z"
    },
    "papermill": {
     "duration": 7.407584,
     "end_time": "2021-11-19T04:11:10.436655",
     "exception": false,
     "start_time": "2021-11-19T04:11:03.029071",
     "status": "completed"
    },
    "tags": []
   },
   "outputs": [
    {
     "name": "stdout",
     "output_type": "stream",
     "text": [
      "Checking whether there is an H2O instance running at http://localhost:54321 ..... not found.\n",
      "Attempting to start a local H2O server...\n",
      "  Java Version: openjdk version \"11.0.11\" 2021-04-20; OpenJDK Runtime Environment (build 11.0.11+9-Ubuntu-0ubuntu2.18.04); OpenJDK 64-Bit Server VM (build 11.0.11+9-Ubuntu-0ubuntu2.18.04, mixed mode, sharing)\n",
      "  Starting server from /opt/conda/lib/python3.7/site-packages/h2o/backend/bin/h2o.jar\n",
      "  Ice root: /tmp/tmpdcp79g6g\n",
      "  JVM stdout: /tmp/tmpdcp79g6g/h2o_unknownUser_started_from_python.out\n",
      "  JVM stderr: /tmp/tmpdcp79g6g/h2o_unknownUser_started_from_python.err\n",
      "  Server is running at http://127.0.0.1:54321\n",
      "Connecting to H2O server at http://127.0.0.1:54321 ... successful.\n"
     ]
    },
    {
     "data": {
      "text/html": [
       "<div style=\"overflow:auto\"><table style=\"width:50%\"><tr><td>H2O_cluster_uptime:</td>\n",
       "<td>02 secs</td></tr>\n",
       "<tr><td>H2O_cluster_timezone:</td>\n",
       "<td>Etc/UTC</td></tr>\n",
       "<tr><td>H2O_data_parsing_timezone:</td>\n",
       "<td>UTC</td></tr>\n",
       "<tr><td>H2O_cluster_version:</td>\n",
       "<td>3.34.0.3</td></tr>\n",
       "<tr><td>H2O_cluster_version_age:</td>\n",
       "<td>1 month and 11 days </td></tr>\n",
       "<tr><td>H2O_cluster_name:</td>\n",
       "<td>H2O_from_python_unknownUser_ndn0bn</td></tr>\n",
       "<tr><td>H2O_cluster_total_nodes:</td>\n",
       "<td>1</td></tr>\n",
       "<tr><td>H2O_cluster_free_memory:</td>\n",
       "<td>3.250 Gb</td></tr>\n",
       "<tr><td>H2O_cluster_total_cores:</td>\n",
       "<td>2</td></tr>\n",
       "<tr><td>H2O_cluster_allowed_cores:</td>\n",
       "<td>2</td></tr>\n",
       "<tr><td>H2O_cluster_status:</td>\n",
       "<td>locked, healthy</td></tr>\n",
       "<tr><td>H2O_connection_url:</td>\n",
       "<td>http://127.0.0.1:54321</td></tr>\n",
       "<tr><td>H2O_connection_proxy:</td>\n",
       "<td>{\"http\": null, \"https\": null}</td></tr>\n",
       "<tr><td>H2O_internal_security:</td>\n",
       "<td>False</td></tr>\n",
       "<tr><td>H2O_API_Extensions:</td>\n",
       "<td>Amazon S3, XGBoost, Algos, AutoML, Core V3, TargetEncoder, Core V4</td></tr>\n",
       "<tr><td>Python_version:</td>\n",
       "<td>3.7.10 final</td></tr></table></div>"
      ],
      "text/plain": [
       "--------------------------  ------------------------------------------------------------------\n",
       "H2O_cluster_uptime:         02 secs\n",
       "H2O_cluster_timezone:       Etc/UTC\n",
       "H2O_data_parsing_timezone:  UTC\n",
       "H2O_cluster_version:        3.34.0.3\n",
       "H2O_cluster_version_age:    1 month and 11 days\n",
       "H2O_cluster_name:           H2O_from_python_unknownUser_ndn0bn\n",
       "H2O_cluster_total_nodes:    1\n",
       "H2O_cluster_free_memory:    3.250 Gb\n",
       "H2O_cluster_total_cores:    2\n",
       "H2O_cluster_allowed_cores:  2\n",
       "H2O_cluster_status:         locked, healthy\n",
       "H2O_connection_url:         http://127.0.0.1:54321\n",
       "H2O_connection_proxy:       {\"http\": null, \"https\": null}\n",
       "H2O_internal_security:      False\n",
       "H2O_API_Extensions:         Amazon S3, XGBoost, Algos, AutoML, Core V3, TargetEncoder, Core V4\n",
       "Python_version:             3.7.10 final\n",
       "--------------------------  ------------------------------------------------------------------"
      ]
     },
     "metadata": {},
     "output_type": "display_data"
    }
   ],
   "source": [
    "import h2o\n",
    "h2o.init()"
   ]
  },
  {
   "cell_type": "code",
   "execution_count": 10,
   "id": "8523a41d",
   "metadata": {
    "execution": {
     "iopub.execute_input": "2021-11-19T04:11:10.607361Z",
     "iopub.status.busy": "2021-11-19T04:11:10.606461Z",
     "iopub.status.idle": "2021-11-19T04:11:10.608740Z",
     "shell.execute_reply": "2021-11-19T04:11:10.608075Z",
     "shell.execute_reply.started": "2021-11-19T03:17:52.043875Z"
    },
    "papermill": {
     "duration": 0.091456,
     "end_time": "2021-11-19T04:11:10.608892",
     "exception": false,
     "start_time": "2021-11-19T04:11:10.517436",
     "status": "completed"
    },
    "tags": []
   },
   "outputs": [],
   "source": [
    "from h2o.automl import H2OAutoML"
   ]
  },
  {
   "cell_type": "code",
   "execution_count": 11,
   "id": "2b2a5e8c",
   "metadata": {
    "execution": {
     "iopub.execute_input": "2021-11-19T04:11:10.745655Z",
     "iopub.status.busy": "2021-11-19T04:11:10.744762Z",
     "iopub.status.idle": "2021-11-19T04:11:10.746872Z",
     "shell.execute_reply": "2021-11-19T04:11:10.747555Z",
     "shell.execute_reply.started": "2021-11-19T03:18:05.498567Z"
    },
    "papermill": {
     "duration": 0.054808,
     "end_time": "2021-11-19T04:11:10.747746",
     "exception": false,
     "start_time": "2021-11-19T04:11:10.692938",
     "status": "completed"
    },
    "tags": []
   },
   "outputs": [],
   "source": [
    "from h2o.estimators.word2vec import H2OWord2vecEstimator\n",
    "from h2o.estimators.gbm import H2OGradientBoostingEstimator"
   ]
  },
  {
   "cell_type": "code",
   "execution_count": 12,
   "id": "7ffc91ed",
   "metadata": {
    "execution": {
     "iopub.execute_input": "2021-11-19T04:11:10.836073Z",
     "iopub.status.busy": "2021-11-19T04:11:10.835520Z",
     "iopub.status.idle": "2021-11-19T04:11:12.563344Z",
     "shell.execute_reply": "2021-11-19T04:11:12.562061Z",
     "shell.execute_reply.started": "2021-11-19T03:46:18.858044Z"
    },
    "papermill": {
     "duration": 1.775148,
     "end_time": "2021-11-19T04:11:12.564727",
     "exception": false,
     "start_time": "2021-11-19T04:11:10.789579",
     "status": "completed"
    },
    "tags": []
   },
   "outputs": [
    {
     "name": "stdout",
     "output_type": "stream",
     "text": [
      "Parse progress: |████████████████████████████████████████████████████████████████| (done) 100%\n"
     ]
    }
   ],
   "source": [
    "data = h2o.import_file('../input/spam-email/spam.csv',col_names = [\"category\", \"Email\"],col_types = [\"enum\", \"string\"], header = 1)"
   ]
  },
  {
   "cell_type": "code",
   "execution_count": 13,
   "id": "030ab589",
   "metadata": {
    "execution": {
     "iopub.execute_input": "2021-11-19T04:11:12.720093Z",
     "iopub.status.busy": "2021-11-19T04:11:12.719277Z",
     "iopub.status.idle": "2021-11-19T04:11:12.780114Z",
     "shell.execute_reply": "2021-11-19T04:11:12.780924Z",
     "shell.execute_reply.started": "2021-11-19T03:46:19.166451Z"
    },
    "papermill": {
     "duration": 0.167983,
     "end_time": "2021-11-19T04:11:12.781187",
     "exception": false,
     "start_time": "2021-11-19T04:11:12.613204",
     "status": "completed"
    },
    "tags": []
   },
   "outputs": [
    {
     "data": {
      "text/html": [
       "<table>\n",
       "<thead>\n",
       "<tr><th>category  </th><th>Email                                                                                                                                                           </th></tr>\n",
       "</thead>\n",
       "<tbody>\n",
       "<tr><td>Category  </td><td>Message                                                                                                                                                         </td></tr>\n",
       "<tr><td>ham       </td><td>Go until jurong point, crazy.. Available only in bugis n great world la e buffet... Cine there got amore wat...                                                 </td></tr>\n",
       "<tr><td>ham       </td><td>Ok lar... Joking wif u oni...                                                                                                                                   </td></tr>\n",
       "<tr><td>spam      </td><td>Free entry in 2 a wkly comp to win FA Cup final tkts 21st May 2005. Text FA to 87121 to receive entry question(std txt rate)T&amp;C&#x27;s apply 08452810075over18&#x27;s     </td></tr>\n",
       "<tr><td>ham       </td><td>U dun say so early hor... U c already then say...                                                                                                               </td></tr>\n",
       "<tr><td>ham       </td><td>Nah I don&#x27;t think he goes to usf, he lives around here though                                                                                                   </td></tr>\n",
       "<tr><td>spam      </td><td>FreeMsg Hey there darling it&#x27;s been 3 week&#x27;s now and no word back! I&#x27;d like some fun you up for it still? Tb ok! XxX std chgs to send, £1.50 to rcv             </td></tr>\n",
       "<tr><td>ham       </td><td>Even my brother is not like to speak with me. They treat me like aids patent.                                                                                   </td></tr>\n",
       "<tr><td>ham       </td><td>As per your request &#x27;Melle Melle (Oru Minnaminunginte Nurungu Vettam)&#x27; has been set as your callertune for all Callers. Press *9 to copy your friends Callertune</td></tr>\n",
       "<tr><td>spam      </td><td>WINNER!! As a valued network customer you have been selected to receivea £900 prize reward! To claim call 09061701461. Claim code KL341. Valid 12 hours only.   </td></tr>\n",
       "</tbody>\n",
       "</table>"
      ]
     },
     "metadata": {},
     "output_type": "display_data"
    },
    {
     "data": {
      "text/plain": []
     },
     "execution_count": 13,
     "metadata": {},
     "output_type": "execute_result"
    }
   ],
   "source": [
    "data.head()"
   ]
  },
  {
   "cell_type": "code",
   "execution_count": 14,
   "id": "da3a9501",
   "metadata": {
    "execution": {
     "iopub.execute_input": "2021-11-19T04:11:12.857941Z",
     "iopub.status.busy": "2021-11-19T04:11:12.857196Z",
     "iopub.status.idle": "2021-11-19T04:11:12.859705Z",
     "shell.execute_reply": "2021-11-19T04:11:12.859242Z",
     "shell.execute_reply.started": "2021-11-19T03:46:19.580559Z"
    },
    "papermill": {
     "duration": 0.034709,
     "end_time": "2021-11-19T04:11:12.859819",
     "exception": false,
     "start_time": "2021-11-19T04:11:12.825110",
     "status": "completed"
    },
    "tags": []
   },
   "outputs": [],
   "source": [
    "data['category'] = data['category'].asfactor()"
   ]
  },
  {
   "cell_type": "code",
   "execution_count": 15,
   "id": "d782cbe0",
   "metadata": {
    "execution": {
     "iopub.execute_input": "2021-11-19T04:11:12.921929Z",
     "iopub.status.busy": "2021-11-19T04:11:12.921295Z",
     "iopub.status.idle": "2021-11-19T04:11:12.925201Z",
     "shell.execute_reply": "2021-11-19T04:11:12.925649Z",
     "shell.execute_reply.started": "2021-11-19T03:38:05.205311Z"
    },
    "papermill": {
     "duration": 0.037684,
     "end_time": "2021-11-19T04:11:12.925782",
     "exception": false,
     "start_time": "2021-11-19T04:11:12.888098",
     "status": "completed"
    },
    "tags": []
   },
   "outputs": [],
   "source": [
    "stop_words = set(stopwords.words('english'))"
   ]
  },
  {
   "cell_type": "code",
   "execution_count": 16,
   "id": "c3820a40",
   "metadata": {
    "execution": {
     "iopub.execute_input": "2021-11-19T04:11:12.989420Z",
     "iopub.status.busy": "2021-11-19T04:11:12.988608Z",
     "iopub.status.idle": "2021-11-19T04:11:12.990670Z",
     "shell.execute_reply": "2021-11-19T04:11:12.991131Z",
     "shell.execute_reply.started": "2021-11-19T03:38:06.245422Z"
    },
    "papermill": {
     "duration": 0.036994,
     "end_time": "2021-11-19T04:11:12.991311",
     "exception": false,
     "start_time": "2021-11-19T04:11:12.954317",
     "status": "completed"
    },
    "tags": []
   },
   "outputs": [],
   "source": [
    "def tokenize(sentences, stop_word = stop_words):\n",
    "    tokenized = sentences.tokenize(\"\\\\W+\")\n",
    "    tokenized_lower = tokenized.tolower()\n",
    "    tokenized_filtered = tokenized_lower[(tokenized_lower.nchar() >= 2) | (tokenized_lower.isna()),:]\n",
    "    tokenized_words = tokenized_filtered[tokenized_filtered.grep(\"[0-9]\",invert=True,output_logical=True),:]\n",
    "    tokenized_words = tokenized_words[(tokenized_words.isna()) | (~ tokenized_words.isin(stop_words)),:]\n",
    "    return tokenized_words"
   ]
  },
  {
   "cell_type": "code",
   "execution_count": 17,
   "id": "2d515458",
   "metadata": {
    "execution": {
     "iopub.execute_input": "2021-11-19T04:11:13.052131Z",
     "iopub.status.busy": "2021-11-19T04:11:13.051306Z",
     "iopub.status.idle": "2021-11-19T04:11:13.055922Z",
     "shell.execute_reply": "2021-11-19T04:11:13.056317Z",
     "shell.execute_reply.started": "2021-11-19T03:38:06.573821Z"
    },
    "papermill": {
     "duration": 0.036007,
     "end_time": "2021-11-19T04:11:13.056452",
     "exception": false,
     "start_time": "2021-11-19T04:11:13.020445",
     "status": "completed"
    },
    "tags": []
   },
   "outputs": [],
   "source": [
    "def predict(job_title,w2v, gbm):\n",
    "    words = tokenize(h2o.H2OFrame(job_title).ascharacter())\n",
    "    job_title_vec = w2v.transform(words, aggregate_method=\"AVERAGE\")\n",
    "    print(gbm.predict(test_data=job_title_vec))"
   ]
  },
  {
   "cell_type": "code",
   "execution_count": 18,
   "id": "af5ba88b",
   "metadata": {
    "execution": {
     "iopub.execute_input": "2021-11-19T04:11:13.430008Z",
     "iopub.status.busy": "2021-11-19T04:11:13.202963Z",
     "iopub.status.idle": "2021-11-19T04:11:26.352617Z",
     "shell.execute_reply": "2021-11-19T04:11:26.352108Z",
     "shell.execute_reply.started": "2021-11-19T03:46:28.264878Z"
    },
    "papermill": {
     "duration": 13.267599,
     "end_time": "2021-11-19T04:11:26.352756",
     "exception": false,
     "start_time": "2021-11-19T04:11:13.085157",
     "status": "completed"
    },
    "tags": []
   },
   "outputs": [],
   "source": [
    "words = tokenize(data[\"Email\"])"
   ]
  },
  {
   "cell_type": "code",
   "execution_count": 19,
   "id": "f2713295",
   "metadata": {
    "execution": {
     "iopub.execute_input": "2021-11-19T04:11:26.513949Z",
     "iopub.status.busy": "2021-11-19T04:11:26.507112Z",
     "iopub.status.idle": "2021-11-19T04:11:42.746277Z",
     "shell.execute_reply": "2021-11-19T04:11:42.747319Z",
     "shell.execute_reply.started": "2021-11-19T03:46:42.084629Z"
    },
    "papermill": {
     "duration": 16.349113,
     "end_time": "2021-11-19T04:11:42.747576",
     "exception": false,
     "start_time": "2021-11-19T04:11:26.398463",
     "status": "completed"
    },
    "tags": []
   },
   "outputs": [
    {
     "name": "stdout",
     "output_type": "stream",
     "text": [
      "Build word2vec model\n",
      "word2vec Model Build progress: |█████████████████████████████████████████████████| (done) 100%\n",
      "Model Details\n",
      "=============\n",
      "H2OWord2vecEstimator :  Word2Vec\n",
      "Model Key:  Word2Vec_model_python_1637295064873_1\n",
      "\n",
      "No model summary for this model\n"
     ]
    },
    {
     "data": {
      "text/plain": []
     },
     "execution_count": 19,
     "metadata": {},
     "output_type": "execute_result"
    }
   ],
   "source": [
    "print(\"Build word2vec model\")\n",
    "w2v_model = H2OWord2vecEstimator(sent_sample_rate = 0.0, epochs = 10)\n",
    "w2v_model.train(training_frame=words)"
   ]
  },
  {
   "cell_type": "code",
   "execution_count": 20,
   "id": "6d859d4d",
   "metadata": {
    "execution": {
     "iopub.execute_input": "2021-11-19T04:11:42.895686Z",
     "iopub.status.busy": "2021-11-19T04:11:42.894864Z",
     "iopub.status.idle": "2021-11-19T04:11:43.657783Z",
     "shell.execute_reply": "2021-11-19T04:11:43.658732Z",
     "shell.execute_reply.started": "2021-11-19T03:46:54.898812Z"
    },
    "papermill": {
     "duration": 0.841388,
     "end_time": "2021-11-19T04:11:43.658940",
     "exception": false,
     "start_time": "2021-11-19T04:11:42.817552",
     "status": "completed"
    },
    "tags": []
   },
   "outputs": [
    {
     "name": "stdout",
     "output_type": "stream",
     "text": [
      "Calculate a vector for each job title\n"
     ]
    }
   ],
   "source": [
    "print(\"Calculate a vector for each job title\")\n",
    "vecs = w2v_model.transform(words, aggregate_method = \"AVERAGE\")"
   ]
  },
  {
   "cell_type": "code",
   "execution_count": 21,
   "id": "5f59014d",
   "metadata": {
    "execution": {
     "iopub.execute_input": "2021-11-19T04:11:43.901260Z",
     "iopub.status.busy": "2021-11-19T04:11:43.900484Z",
     "iopub.status.idle": "2021-11-19T04:11:44.462984Z",
     "shell.execute_reply": "2021-11-19T04:11:44.462274Z",
     "shell.execute_reply.started": "2021-11-19T03:46:54.994386Z"
    },
    "papermill": {
     "duration": 0.655076,
     "end_time": "2021-11-19T04:11:44.463158",
     "exception": false,
     "start_time": "2021-11-19T04:11:43.808082",
     "status": "completed"
    },
    "tags": []
   },
   "outputs": [
    {
     "name": "stdout",
     "output_type": "stream",
     "text": [
      "Prepare training&validation data\n"
     ]
    }
   ],
   "source": [
    "print(\"Prepare training&validation data\")\n",
    "categ = ~ vecs[\"C1\"].isna()\n",
    "data = data[categ,:].cbind(vecs[categ,:])"
   ]
  },
  {
   "cell_type": "code",
   "execution_count": 22,
   "id": "da5a5211",
   "metadata": {
    "execution": {
     "iopub.execute_input": "2021-11-19T04:11:44.720274Z",
     "iopub.status.busy": "2021-11-19T04:11:44.719012Z",
     "iopub.status.idle": "2021-11-19T04:11:45.547354Z",
     "shell.execute_reply": "2021-11-19T04:11:45.548393Z",
     "shell.execute_reply.started": "2021-11-19T03:46:55.327364Z"
    },
    "papermill": {
     "duration": 1.015844,
     "end_time": "2021-11-19T04:11:45.548657",
     "exception": false,
     "start_time": "2021-11-19T04:11:44.532813",
     "status": "completed"
    },
    "tags": []
   },
   "outputs": [],
   "source": [
    "data_split = data.split_frame(ratios=[0.8])"
   ]
  },
  {
   "cell_type": "code",
   "execution_count": 23,
   "id": "77c77150",
   "metadata": {
    "execution": {
     "iopub.execute_input": "2021-11-19T04:11:45.696005Z",
     "iopub.status.busy": "2021-11-19T04:11:45.695217Z",
     "iopub.status.idle": "2021-11-19T04:19:56.562745Z",
     "shell.execute_reply": "2021-11-19T04:19:56.543046Z",
     "shell.execute_reply.started": "2021-11-19T04:00:30.704984Z"
    },
    "papermill": {
     "duration": 490.944026,
     "end_time": "2021-11-19T04:19:56.562913",
     "exception": false,
     "start_time": "2021-11-19T04:11:45.618887",
     "status": "completed"
    },
    "tags": []
   },
   "outputs": [
    {
     "name": "stdout",
     "output_type": "stream",
     "text": [
      "AutoML progress: |███████████████████████████████████████████████████████████████| (done) 100%\n",
      "Model Details\n",
      "=============\n",
      "H2OXGBoostEstimator :  XGBoost\n",
      "Model Key:  XGBoost_3_AutoML_1_20211119_41145\n",
      "\n",
      "\n",
      "Model Summary: \n"
     ]
    },
    {
     "data": {
      "text/html": [
       "<div>\n",
       "<style scoped>\n",
       "    .dataframe tbody tr th:only-of-type {\n",
       "        vertical-align: middle;\n",
       "    }\n",
       "\n",
       "    .dataframe tbody tr th {\n",
       "        vertical-align: top;\n",
       "    }\n",
       "\n",
       "    .dataframe thead th {\n",
       "        text-align: right;\n",
       "    }\n",
       "</style>\n",
       "<table border=\"1\" class=\"dataframe\">\n",
       "  <thead>\n",
       "    <tr style=\"text-align: right;\">\n",
       "      <th></th>\n",
       "      <th></th>\n",
       "      <th>number_of_trees</th>\n",
       "    </tr>\n",
       "  </thead>\n",
       "  <tbody>\n",
       "    <tr>\n",
       "      <th>0</th>\n",
       "      <td></td>\n",
       "      <td>52.0</td>\n",
       "    </tr>\n",
       "  </tbody>\n",
       "</table>\n",
       "</div>"
      ],
      "text/plain": [
       "     number_of_trees\n",
       "0               52.0"
      ]
     },
     "metadata": {},
     "output_type": "display_data"
    },
    {
     "name": "stdout",
     "output_type": "stream",
     "text": [
      "\n",
      "\n",
      "ModelMetricsMultinomial: xgboost\n",
      "** Reported on train data. **\n",
      "\n",
      "MSE: 0.0003279862450212675\n",
      "RMSE: 0.018110390526470364\n",
      "LogLoss: 0.004356579164263424\n",
      "Mean Per-Class Error: 0.000546448087431694\n",
      "AUC: NaN\n",
      "AUCPR: NaN\n",
      "Multinomial auc values: Table is not computed because it is disabled (model parameter 'auc_type' is set to AUTO or NONE) or due to domain size (maximum is 50 domains).\n",
      "Multinomial auc_pr values: Table is not computed because it is disabled (model parameter 'auc_type' is set to AUTO or NONE) or due to domain size (maximum is 50 domains).\n",
      "\n",
      "Confusion Matrix: Row labels: Actual class; Column labels: Predicted class\n"
     ]
    },
    {
     "data": {
      "text/html": [
       "<div>\n",
       "<style scoped>\n",
       "    .dataframe tbody tr th:only-of-type {\n",
       "        vertical-align: middle;\n",
       "    }\n",
       "\n",
       "    .dataframe tbody tr th {\n",
       "        vertical-align: top;\n",
       "    }\n",
       "\n",
       "    .dataframe thead th {\n",
       "        text-align: right;\n",
       "    }\n",
       "</style>\n",
       "<table border=\"1\" class=\"dataframe\">\n",
       "  <thead>\n",
       "    <tr style=\"text-align: right;\">\n",
       "      <th></th>\n",
       "      <th>Category</th>\n",
       "      <th>ham</th>\n",
       "      <th>spam</th>\n",
       "      <th>Error</th>\n",
       "      <th>Rate</th>\n",
       "    </tr>\n",
       "  </thead>\n",
       "  <tbody>\n",
       "    <tr>\n",
       "      <th>0</th>\n",
       "      <td>0.0</td>\n",
       "      <td>0.0</td>\n",
       "      <td>0.0</td>\n",
       "      <td>NaN</td>\n",
       "      <td>0 / 0</td>\n",
       "    </tr>\n",
       "    <tr>\n",
       "      <th>1</th>\n",
       "      <td>0.0</td>\n",
       "      <td>3788.0</td>\n",
       "      <td>0.0</td>\n",
       "      <td>0.000000</td>\n",
       "      <td>0 / 3,788</td>\n",
       "    </tr>\n",
       "    <tr>\n",
       "      <th>2</th>\n",
       "      <td>0.0</td>\n",
       "      <td>1.0</td>\n",
       "      <td>609.0</td>\n",
       "      <td>0.001639</td>\n",
       "      <td>1 / 610</td>\n",
       "    </tr>\n",
       "    <tr>\n",
       "      <th>3</th>\n",
       "      <td>0.0</td>\n",
       "      <td>3789.0</td>\n",
       "      <td>609.0</td>\n",
       "      <td>0.000227</td>\n",
       "      <td>1 / 4,398</td>\n",
       "    </tr>\n",
       "  </tbody>\n",
       "</table>\n",
       "</div>"
      ],
      "text/plain": [
       "   Category     ham   spam     Error       Rate\n",
       "0       0.0     0.0    0.0       NaN      0 / 0\n",
       "1       0.0  3788.0    0.0  0.000000  0 / 3,788\n",
       "2       0.0     1.0  609.0  0.001639    1 / 610\n",
       "3       0.0  3789.0  609.0  0.000227  1 / 4,398"
      ]
     },
     "metadata": {},
     "output_type": "display_data"
    },
    {
     "name": "stdout",
     "output_type": "stream",
     "text": [
      "\n",
      "Top-3 Hit Ratios: \n"
     ]
    },
    {
     "data": {
      "text/html": [
       "<div>\n",
       "<style scoped>\n",
       "    .dataframe tbody tr th:only-of-type {\n",
       "        vertical-align: middle;\n",
       "    }\n",
       "\n",
       "    .dataframe tbody tr th {\n",
       "        vertical-align: top;\n",
       "    }\n",
       "\n",
       "    .dataframe thead th {\n",
       "        text-align: right;\n",
       "    }\n",
       "</style>\n",
       "<table border=\"1\" class=\"dataframe\">\n",
       "  <thead>\n",
       "    <tr style=\"text-align: right;\">\n",
       "      <th></th>\n",
       "      <th>k</th>\n",
       "      <th>hit_ratio</th>\n",
       "    </tr>\n",
       "  </thead>\n",
       "  <tbody>\n",
       "    <tr>\n",
       "      <th>0</th>\n",
       "      <td>1</td>\n",
       "      <td>0.999773</td>\n",
       "    </tr>\n",
       "    <tr>\n",
       "      <th>1</th>\n",
       "      <td>2</td>\n",
       "      <td>1.000000</td>\n",
       "    </tr>\n",
       "    <tr>\n",
       "      <th>2</th>\n",
       "      <td>3</td>\n",
       "      <td>1.000000</td>\n",
       "    </tr>\n",
       "  </tbody>\n",
       "</table>\n",
       "</div>"
      ],
      "text/plain": [
       "   k  hit_ratio\n",
       "0  1   0.999773\n",
       "1  2   1.000000\n",
       "2  3   1.000000"
      ]
     },
     "metadata": {},
     "output_type": "display_data"
    },
    {
     "name": "stdout",
     "output_type": "stream",
     "text": [
      "\n",
      "ModelMetricsMultinomial: xgboost\n",
      "** Reported on cross-validation data. **\n",
      "\n",
      "MSE: 0.015167932632350658\n",
      "RMSE: 0.12315816104647982\n",
      "LogLoss: 0.07154775065584584\n",
      "Mean Per-Class Error: 0.027318076641219612\n",
      "AUC: NaN\n",
      "AUCPR: NaN\n",
      "Multinomial auc values: Table is not computed because it is disabled (model parameter 'auc_type' is set to AUTO or NONE) or due to domain size (maximum is 50 domains).\n",
      "Multinomial auc_pr values: Table is not computed because it is disabled (model parameter 'auc_type' is set to AUTO or NONE) or due to domain size (maximum is 50 domains).\n",
      "\n",
      "Confusion Matrix: Row labels: Actual class; Column labels: Predicted class\n"
     ]
    },
    {
     "data": {
      "text/html": [
       "<div>\n",
       "<style scoped>\n",
       "    .dataframe tbody tr th:only-of-type {\n",
       "        vertical-align: middle;\n",
       "    }\n",
       "\n",
       "    .dataframe tbody tr th {\n",
       "        vertical-align: top;\n",
       "    }\n",
       "\n",
       "    .dataframe thead th {\n",
       "        text-align: right;\n",
       "    }\n",
       "</style>\n",
       "<table border=\"1\" class=\"dataframe\">\n",
       "  <thead>\n",
       "    <tr style=\"text-align: right;\">\n",
       "      <th></th>\n",
       "      <th>Category</th>\n",
       "      <th>ham</th>\n",
       "      <th>spam</th>\n",
       "      <th>Error</th>\n",
       "      <th>Rate</th>\n",
       "    </tr>\n",
       "  </thead>\n",
       "  <tbody>\n",
       "    <tr>\n",
       "      <th>0</th>\n",
       "      <td>0.0</td>\n",
       "      <td>0.0</td>\n",
       "      <td>0.0</td>\n",
       "      <td>NaN</td>\n",
       "      <td>0 / 0</td>\n",
       "    </tr>\n",
       "    <tr>\n",
       "      <th>1</th>\n",
       "      <td>0.0</td>\n",
       "      <td>3757.0</td>\n",
       "      <td>31.0</td>\n",
       "      <td>0.008184</td>\n",
       "      <td>31 / 3,788</td>\n",
       "    </tr>\n",
       "    <tr>\n",
       "      <th>2</th>\n",
       "      <td>0.0</td>\n",
       "      <td>45.0</td>\n",
       "      <td>565.0</td>\n",
       "      <td>0.073770</td>\n",
       "      <td>45 / 610</td>\n",
       "    </tr>\n",
       "    <tr>\n",
       "      <th>3</th>\n",
       "      <td>0.0</td>\n",
       "      <td>3802.0</td>\n",
       "      <td>596.0</td>\n",
       "      <td>0.017281</td>\n",
       "      <td>76 / 4,398</td>\n",
       "    </tr>\n",
       "  </tbody>\n",
       "</table>\n",
       "</div>"
      ],
      "text/plain": [
       "   Category     ham   spam     Error        Rate\n",
       "0       0.0     0.0    0.0       NaN       0 / 0\n",
       "1       0.0  3757.0   31.0  0.008184  31 / 3,788\n",
       "2       0.0    45.0  565.0  0.073770    45 / 610\n",
       "3       0.0  3802.0  596.0  0.017281  76 / 4,398"
      ]
     },
     "metadata": {},
     "output_type": "display_data"
    },
    {
     "name": "stdout",
     "output_type": "stream",
     "text": [
      "\n",
      "Top-3 Hit Ratios: \n"
     ]
    },
    {
     "data": {
      "text/html": [
       "<div>\n",
       "<style scoped>\n",
       "    .dataframe tbody tr th:only-of-type {\n",
       "        vertical-align: middle;\n",
       "    }\n",
       "\n",
       "    .dataframe tbody tr th {\n",
       "        vertical-align: top;\n",
       "    }\n",
       "\n",
       "    .dataframe thead th {\n",
       "        text-align: right;\n",
       "    }\n",
       "</style>\n",
       "<table border=\"1\" class=\"dataframe\">\n",
       "  <thead>\n",
       "    <tr style=\"text-align: right;\">\n",
       "      <th></th>\n",
       "      <th>k</th>\n",
       "      <th>hit_ratio</th>\n",
       "    </tr>\n",
       "  </thead>\n",
       "  <tbody>\n",
       "    <tr>\n",
       "      <th>0</th>\n",
       "      <td>1</td>\n",
       "      <td>0.982719</td>\n",
       "    </tr>\n",
       "    <tr>\n",
       "      <th>1</th>\n",
       "      <td>2</td>\n",
       "      <td>1.000000</td>\n",
       "    </tr>\n",
       "    <tr>\n",
       "      <th>2</th>\n",
       "      <td>3</td>\n",
       "      <td>1.000000</td>\n",
       "    </tr>\n",
       "  </tbody>\n",
       "</table>\n",
       "</div>"
      ],
      "text/plain": [
       "   k  hit_ratio\n",
       "0  1   0.982719\n",
       "1  2   1.000000\n",
       "2  3   1.000000"
      ]
     },
     "metadata": {},
     "output_type": "display_data"
    },
    {
     "name": "stdout",
     "output_type": "stream",
     "text": [
      "\n",
      "Cross-Validation Metrics Summary: \n"
     ]
    },
    {
     "data": {
      "text/html": [
       "<div>\n",
       "<style scoped>\n",
       "    .dataframe tbody tr th:only-of-type {\n",
       "        vertical-align: middle;\n",
       "    }\n",
       "\n",
       "    .dataframe tbody tr th {\n",
       "        vertical-align: top;\n",
       "    }\n",
       "\n",
       "    .dataframe thead th {\n",
       "        text-align: right;\n",
       "    }\n",
       "</style>\n",
       "<table border=\"1\" class=\"dataframe\">\n",
       "  <thead>\n",
       "    <tr style=\"text-align: right;\">\n",
       "      <th></th>\n",
       "      <th></th>\n",
       "      <th>mean</th>\n",
       "      <th>sd</th>\n",
       "      <th>cv_1_valid</th>\n",
       "      <th>cv_2_valid</th>\n",
       "      <th>cv_3_valid</th>\n",
       "      <th>cv_4_valid</th>\n",
       "      <th>cv_5_valid</th>\n",
       "    </tr>\n",
       "  </thead>\n",
       "  <tbody>\n",
       "    <tr>\n",
       "      <th>0</th>\n",
       "      <td>accuracy</td>\n",
       "      <td>0.982719</td>\n",
       "      <td>0.003722</td>\n",
       "      <td>0.986364</td>\n",
       "      <td>0.986364</td>\n",
       "      <td>0.978409</td>\n",
       "      <td>0.979522</td>\n",
       "      <td>0.982935</td>\n",
       "    </tr>\n",
       "    <tr>\n",
       "      <th>1</th>\n",
       "      <td>auc</td>\n",
       "      <td>NaN</td>\n",
       "      <td>0.000000</td>\n",
       "      <td>NaN</td>\n",
       "      <td>NaN</td>\n",
       "      <td>NaN</td>\n",
       "      <td>NaN</td>\n",
       "      <td>NaN</td>\n",
       "    </tr>\n",
       "    <tr>\n",
       "      <th>2</th>\n",
       "      <td>err</td>\n",
       "      <td>0.017281</td>\n",
       "      <td>0.003722</td>\n",
       "      <td>0.013636</td>\n",
       "      <td>0.013636</td>\n",
       "      <td>0.021591</td>\n",
       "      <td>0.020478</td>\n",
       "      <td>0.017065</td>\n",
       "    </tr>\n",
       "    <tr>\n",
       "      <th>3</th>\n",
       "      <td>err_count</td>\n",
       "      <td>15.200000</td>\n",
       "      <td>3.271085</td>\n",
       "      <td>12.000000</td>\n",
       "      <td>12.000000</td>\n",
       "      <td>19.000000</td>\n",
       "      <td>18.000000</td>\n",
       "      <td>15.000000</td>\n",
       "    </tr>\n",
       "    <tr>\n",
       "      <th>4</th>\n",
       "      <td>logloss</td>\n",
       "      <td>0.071553</td>\n",
       "      <td>0.020521</td>\n",
       "      <td>0.067465</td>\n",
       "      <td>0.039190</td>\n",
       "      <td>0.085177</td>\n",
       "      <td>0.073634</td>\n",
       "      <td>0.092299</td>\n",
       "    </tr>\n",
       "    <tr>\n",
       "      <th>5</th>\n",
       "      <td>max_per_class_error</td>\n",
       "      <td>0.072826</td>\n",
       "      <td>0.039431</td>\n",
       "      <td>0.041667</td>\n",
       "      <td>0.029126</td>\n",
       "      <td>0.122807</td>\n",
       "      <td>0.101562</td>\n",
       "      <td>0.068966</td>\n",
       "    </tr>\n",
       "    <tr>\n",
       "      <th>6</th>\n",
       "      <td>mean_per_class_accuracy</td>\n",
       "      <td>0.973005</td>\n",
       "      <td>0.012511</td>\n",
       "      <td>0.983041</td>\n",
       "      <td>0.986430</td>\n",
       "      <td>0.956889</td>\n",
       "      <td>0.963927</td>\n",
       "      <td>0.974741</td>\n",
       "    </tr>\n",
       "    <tr>\n",
       "      <th>7</th>\n",
       "      <td>mean_per_class_error</td>\n",
       "      <td>0.026995</td>\n",
       "      <td>0.012511</td>\n",
       "      <td>0.016959</td>\n",
       "      <td>0.013570</td>\n",
       "      <td>0.043111</td>\n",
       "      <td>0.036073</td>\n",
       "      <td>0.025259</td>\n",
       "    </tr>\n",
       "    <tr>\n",
       "      <th>8</th>\n",
       "      <td>mse</td>\n",
       "      <td>0.015168</td>\n",
       "      <td>0.003328</td>\n",
       "      <td>0.014146</td>\n",
       "      <td>0.010240</td>\n",
       "      <td>0.019204</td>\n",
       "      <td>0.016778</td>\n",
       "      <td>0.015474</td>\n",
       "    </tr>\n",
       "    <tr>\n",
       "      <th>9</th>\n",
       "      <td>pr_auc</td>\n",
       "      <td>NaN</td>\n",
       "      <td>0.000000</td>\n",
       "      <td>NaN</td>\n",
       "      <td>NaN</td>\n",
       "      <td>NaN</td>\n",
       "      <td>NaN</td>\n",
       "      <td>NaN</td>\n",
       "    </tr>\n",
       "    <tr>\n",
       "      <th>10</th>\n",
       "      <td>r2</td>\n",
       "      <td>0.872661</td>\n",
       "      <td>0.027285</td>\n",
       "      <td>0.879882</td>\n",
       "      <td>0.900917</td>\n",
       "      <td>0.829696</td>\n",
       "      <td>0.865149</td>\n",
       "      <td>0.887662</td>\n",
       "    </tr>\n",
       "    <tr>\n",
       "      <th>11</th>\n",
       "      <td>rmse</td>\n",
       "      <td>0.122526</td>\n",
       "      <td>0.013948</td>\n",
       "      <td>0.118937</td>\n",
       "      <td>0.101192</td>\n",
       "      <td>0.138579</td>\n",
       "      <td>0.129528</td>\n",
       "      <td>0.124396</td>\n",
       "    </tr>\n",
       "  </tbody>\n",
       "</table>\n",
       "</div>"
      ],
      "text/plain": [
       "                                  mean        sd  cv_1_valid  cv_2_valid  \\\n",
       "0                  accuracy   0.982719  0.003722    0.986364    0.986364   \n",
       "1                       auc        NaN  0.000000         NaN         NaN   \n",
       "2                       err   0.017281  0.003722    0.013636    0.013636   \n",
       "3                 err_count  15.200000  3.271085   12.000000   12.000000   \n",
       "4                   logloss   0.071553  0.020521    0.067465    0.039190   \n",
       "5       max_per_class_error   0.072826  0.039431    0.041667    0.029126   \n",
       "6   mean_per_class_accuracy   0.973005  0.012511    0.983041    0.986430   \n",
       "7      mean_per_class_error   0.026995  0.012511    0.016959    0.013570   \n",
       "8                       mse   0.015168  0.003328    0.014146    0.010240   \n",
       "9                    pr_auc        NaN  0.000000         NaN         NaN   \n",
       "10                       r2   0.872661  0.027285    0.879882    0.900917   \n",
       "11                     rmse   0.122526  0.013948    0.118937    0.101192   \n",
       "\n",
       "    cv_3_valid  cv_4_valid  cv_5_valid  \n",
       "0     0.978409    0.979522    0.982935  \n",
       "1          NaN         NaN         NaN  \n",
       "2     0.021591    0.020478    0.017065  \n",
       "3    19.000000   18.000000   15.000000  \n",
       "4     0.085177    0.073634    0.092299  \n",
       "5     0.122807    0.101562    0.068966  \n",
       "6     0.956889    0.963927    0.974741  \n",
       "7     0.043111    0.036073    0.025259  \n",
       "8     0.019204    0.016778    0.015474  \n",
       "9          NaN         NaN         NaN  \n",
       "10    0.829696    0.865149    0.887662  \n",
       "11    0.138579    0.129528    0.124396  "
      ]
     },
     "metadata": {},
     "output_type": "display_data"
    },
    {
     "name": "stdout",
     "output_type": "stream",
     "text": [
      "\n",
      "Scoring History: \n"
     ]
    },
    {
     "data": {
      "text/html": [
       "<div>\n",
       "<style scoped>\n",
       "    .dataframe tbody tr th:only-of-type {\n",
       "        vertical-align: middle;\n",
       "    }\n",
       "\n",
       "    .dataframe tbody tr th {\n",
       "        vertical-align: top;\n",
       "    }\n",
       "\n",
       "    .dataframe thead th {\n",
       "        text-align: right;\n",
       "    }\n",
       "</style>\n",
       "<table border=\"1\" class=\"dataframe\">\n",
       "  <thead>\n",
       "    <tr style=\"text-align: right;\">\n",
       "      <th></th>\n",
       "      <th></th>\n",
       "      <th>timestamp</th>\n",
       "      <th>duration</th>\n",
       "      <th>number_of_trees</th>\n",
       "      <th>training_rmse</th>\n",
       "      <th>training_logloss</th>\n",
       "      <th>training_classification_error</th>\n",
       "      <th>training_auc</th>\n",
       "      <th>training_pr_auc</th>\n",
       "    </tr>\n",
       "  </thead>\n",
       "  <tbody>\n",
       "    <tr>\n",
       "      <th>0</th>\n",
       "      <td></td>\n",
       "      <td>2021-11-19 04:16:31</td>\n",
       "      <td>5.545 sec</td>\n",
       "      <td>0.0</td>\n",
       "      <td>0.666667</td>\n",
       "      <td>1.098612</td>\n",
       "      <td>0.138699</td>\n",
       "      <td>NaN</td>\n",
       "      <td>NaN</td>\n",
       "    </tr>\n",
       "    <tr>\n",
       "      <th>1</th>\n",
       "      <td></td>\n",
       "      <td>2021-11-19 04:16:31</td>\n",
       "      <td>5.623 sec</td>\n",
       "      <td>5.0</td>\n",
       "      <td>0.206752</td>\n",
       "      <td>0.220938</td>\n",
       "      <td>0.014552</td>\n",
       "      <td>NaN</td>\n",
       "      <td>NaN</td>\n",
       "    </tr>\n",
       "    <tr>\n",
       "      <th>2</th>\n",
       "      <td></td>\n",
       "      <td>2021-11-19 04:16:31</td>\n",
       "      <td>5.673 sec</td>\n",
       "      <td>10.0</td>\n",
       "      <td>0.109076</td>\n",
       "      <td>0.077105</td>\n",
       "      <td>0.010914</td>\n",
       "      <td>NaN</td>\n",
       "      <td>NaN</td>\n",
       "    </tr>\n",
       "    <tr>\n",
       "      <th>3</th>\n",
       "      <td></td>\n",
       "      <td>2021-11-19 04:16:31</td>\n",
       "      <td>5.722 sec</td>\n",
       "      <td>15.0</td>\n",
       "      <td>0.083788</td>\n",
       "      <td>0.038002</td>\n",
       "      <td>0.007276</td>\n",
       "      <td>NaN</td>\n",
       "      <td>NaN</td>\n",
       "    </tr>\n",
       "    <tr>\n",
       "      <th>4</th>\n",
       "      <td></td>\n",
       "      <td>2021-11-19 04:16:31</td>\n",
       "      <td>5.771 sec</td>\n",
       "      <td>20.0</td>\n",
       "      <td>0.064283</td>\n",
       "      <td>0.021894</td>\n",
       "      <td>0.005457</td>\n",
       "      <td>NaN</td>\n",
       "      <td>NaN</td>\n",
       "    </tr>\n",
       "    <tr>\n",
       "      <th>5</th>\n",
       "      <td></td>\n",
       "      <td>2021-11-19 04:16:31</td>\n",
       "      <td>5.820 sec</td>\n",
       "      <td>25.0</td>\n",
       "      <td>0.049584</td>\n",
       "      <td>0.014409</td>\n",
       "      <td>0.002956</td>\n",
       "      <td>NaN</td>\n",
       "      <td>NaN</td>\n",
       "    </tr>\n",
       "    <tr>\n",
       "      <th>6</th>\n",
       "      <td></td>\n",
       "      <td>2021-11-19 04:16:32</td>\n",
       "      <td>5.873 sec</td>\n",
       "      <td>30.0</td>\n",
       "      <td>0.038600</td>\n",
       "      <td>0.010274</td>\n",
       "      <td>0.001592</td>\n",
       "      <td>NaN</td>\n",
       "      <td>NaN</td>\n",
       "    </tr>\n",
       "    <tr>\n",
       "      <th>7</th>\n",
       "      <td></td>\n",
       "      <td>2021-11-19 04:16:32</td>\n",
       "      <td>5.926 sec</td>\n",
       "      <td>35.0</td>\n",
       "      <td>0.029676</td>\n",
       "      <td>0.007847</td>\n",
       "      <td>0.000227</td>\n",
       "      <td>NaN</td>\n",
       "      <td>NaN</td>\n",
       "    </tr>\n",
       "    <tr>\n",
       "      <th>8</th>\n",
       "      <td></td>\n",
       "      <td>2021-11-19 04:16:32</td>\n",
       "      <td>5.979 sec</td>\n",
       "      <td>40.0</td>\n",
       "      <td>0.024278</td>\n",
       "      <td>0.006354</td>\n",
       "      <td>0.000227</td>\n",
       "      <td>NaN</td>\n",
       "      <td>NaN</td>\n",
       "    </tr>\n",
       "    <tr>\n",
       "      <th>9</th>\n",
       "      <td></td>\n",
       "      <td>2021-11-19 04:16:32</td>\n",
       "      <td>6.040 sec</td>\n",
       "      <td>45.0</td>\n",
       "      <td>0.021006</td>\n",
       "      <td>0.005330</td>\n",
       "      <td>0.000227</td>\n",
       "      <td>NaN</td>\n",
       "      <td>NaN</td>\n",
       "    </tr>\n",
       "    <tr>\n",
       "      <th>10</th>\n",
       "      <td></td>\n",
       "      <td>2021-11-19 04:16:32</td>\n",
       "      <td>6.098 sec</td>\n",
       "      <td>50.0</td>\n",
       "      <td>0.019202</td>\n",
       "      <td>0.004636</td>\n",
       "      <td>0.000227</td>\n",
       "      <td>NaN</td>\n",
       "      <td>NaN</td>\n",
       "    </tr>\n",
       "    <tr>\n",
       "      <th>11</th>\n",
       "      <td></td>\n",
       "      <td>2021-11-19 04:16:32</td>\n",
       "      <td>6.140 sec</td>\n",
       "      <td>52.0</td>\n",
       "      <td>0.018110</td>\n",
       "      <td>0.004357</td>\n",
       "      <td>0.000227</td>\n",
       "      <td>NaN</td>\n",
       "      <td>NaN</td>\n",
       "    </tr>\n",
       "  </tbody>\n",
       "</table>\n",
       "</div>"
      ],
      "text/plain": [
       "                timestamp    duration  number_of_trees  training_rmse  \\\n",
       "0     2021-11-19 04:16:31   5.545 sec              0.0       0.666667   \n",
       "1     2021-11-19 04:16:31   5.623 sec              5.0       0.206752   \n",
       "2     2021-11-19 04:16:31   5.673 sec             10.0       0.109076   \n",
       "3     2021-11-19 04:16:31   5.722 sec             15.0       0.083788   \n",
       "4     2021-11-19 04:16:31   5.771 sec             20.0       0.064283   \n",
       "5     2021-11-19 04:16:31   5.820 sec             25.0       0.049584   \n",
       "6     2021-11-19 04:16:32   5.873 sec             30.0       0.038600   \n",
       "7     2021-11-19 04:16:32   5.926 sec             35.0       0.029676   \n",
       "8     2021-11-19 04:16:32   5.979 sec             40.0       0.024278   \n",
       "9     2021-11-19 04:16:32   6.040 sec             45.0       0.021006   \n",
       "10    2021-11-19 04:16:32   6.098 sec             50.0       0.019202   \n",
       "11    2021-11-19 04:16:32   6.140 sec             52.0       0.018110   \n",
       "\n",
       "    training_logloss  training_classification_error  training_auc  \\\n",
       "0           1.098612                       0.138699           NaN   \n",
       "1           0.220938                       0.014552           NaN   \n",
       "2           0.077105                       0.010914           NaN   \n",
       "3           0.038002                       0.007276           NaN   \n",
       "4           0.021894                       0.005457           NaN   \n",
       "5           0.014409                       0.002956           NaN   \n",
       "6           0.010274                       0.001592           NaN   \n",
       "7           0.007847                       0.000227           NaN   \n",
       "8           0.006354                       0.000227           NaN   \n",
       "9           0.005330                       0.000227           NaN   \n",
       "10          0.004636                       0.000227           NaN   \n",
       "11          0.004357                       0.000227           NaN   \n",
       "\n",
       "    training_pr_auc  \n",
       "0               NaN  \n",
       "1               NaN  \n",
       "2               NaN  \n",
       "3               NaN  \n",
       "4               NaN  \n",
       "5               NaN  \n",
       "6               NaN  \n",
       "7               NaN  \n",
       "8               NaN  \n",
       "9               NaN  \n",
       "10              NaN  \n",
       "11              NaN  "
      ]
     },
     "metadata": {},
     "output_type": "display_data"
    },
    {
     "name": "stdout",
     "output_type": "stream",
     "text": [
      "\n",
      "Variable Importances: \n"
     ]
    },
    {
     "data": {
      "text/html": [
       "<div>\n",
       "<style scoped>\n",
       "    .dataframe tbody tr th:only-of-type {\n",
       "        vertical-align: middle;\n",
       "    }\n",
       "\n",
       "    .dataframe tbody tr th {\n",
       "        vertical-align: top;\n",
       "    }\n",
       "\n",
       "    .dataframe thead th {\n",
       "        text-align: right;\n",
       "    }\n",
       "</style>\n",
       "<table border=\"1\" class=\"dataframe\">\n",
       "  <thead>\n",
       "    <tr style=\"text-align: right;\">\n",
       "      <th></th>\n",
       "      <th>variable</th>\n",
       "      <th>relative_importance</th>\n",
       "      <th>scaled_importance</th>\n",
       "      <th>percentage</th>\n",
       "    </tr>\n",
       "  </thead>\n",
       "  <tbody>\n",
       "    <tr>\n",
       "      <th>0</th>\n",
       "      <td>C65</td>\n",
       "      <td>1657.267212</td>\n",
       "      <td>1.000000</td>\n",
       "      <td>0.307341</td>\n",
       "    </tr>\n",
       "    <tr>\n",
       "      <th>1</th>\n",
       "      <td>C86</td>\n",
       "      <td>828.224915</td>\n",
       "      <td>0.499753</td>\n",
       "      <td>0.153595</td>\n",
       "    </tr>\n",
       "    <tr>\n",
       "      <th>2</th>\n",
       "      <td>C79</td>\n",
       "      <td>356.392456</td>\n",
       "      <td>0.215048</td>\n",
       "      <td>0.066093</td>\n",
       "    </tr>\n",
       "    <tr>\n",
       "      <th>3</th>\n",
       "      <td>C55</td>\n",
       "      <td>245.473816</td>\n",
       "      <td>0.148120</td>\n",
       "      <td>0.045523</td>\n",
       "    </tr>\n",
       "    <tr>\n",
       "      <th>4</th>\n",
       "      <td>C47</td>\n",
       "      <td>153.084946</td>\n",
       "      <td>0.092372</td>\n",
       "      <td>0.028390</td>\n",
       "    </tr>\n",
       "    <tr>\n",
       "      <th>5</th>\n",
       "      <td>C60</td>\n",
       "      <td>152.384048</td>\n",
       "      <td>0.091949</td>\n",
       "      <td>0.028260</td>\n",
       "    </tr>\n",
       "    <tr>\n",
       "      <th>6</th>\n",
       "      <td>C53</td>\n",
       "      <td>101.948357</td>\n",
       "      <td>0.061516</td>\n",
       "      <td>0.018906</td>\n",
       "    </tr>\n",
       "    <tr>\n",
       "      <th>7</th>\n",
       "      <td>C30</td>\n",
       "      <td>91.609894</td>\n",
       "      <td>0.055278</td>\n",
       "      <td>0.016989</td>\n",
       "    </tr>\n",
       "    <tr>\n",
       "      <th>8</th>\n",
       "      <td>C33</td>\n",
       "      <td>91.276299</td>\n",
       "      <td>0.055076</td>\n",
       "      <td>0.016927</td>\n",
       "    </tr>\n",
       "    <tr>\n",
       "      <th>9</th>\n",
       "      <td>C29</td>\n",
       "      <td>76.260124</td>\n",
       "      <td>0.046016</td>\n",
       "      <td>0.014142</td>\n",
       "    </tr>\n",
       "    <tr>\n",
       "      <th>10</th>\n",
       "      <td>C83</td>\n",
       "      <td>76.148552</td>\n",
       "      <td>0.045948</td>\n",
       "      <td>0.014122</td>\n",
       "    </tr>\n",
       "    <tr>\n",
       "      <th>11</th>\n",
       "      <td>C7</td>\n",
       "      <td>67.591118</td>\n",
       "      <td>0.040785</td>\n",
       "      <td>0.012535</td>\n",
       "    </tr>\n",
       "    <tr>\n",
       "      <th>12</th>\n",
       "      <td>C36</td>\n",
       "      <td>66.079460</td>\n",
       "      <td>0.039873</td>\n",
       "      <td>0.012254</td>\n",
       "    </tr>\n",
       "    <tr>\n",
       "      <th>13</th>\n",
       "      <td>C97</td>\n",
       "      <td>52.505928</td>\n",
       "      <td>0.031682</td>\n",
       "      <td>0.009737</td>\n",
       "    </tr>\n",
       "    <tr>\n",
       "      <th>14</th>\n",
       "      <td>C19</td>\n",
       "      <td>51.858303</td>\n",
       "      <td>0.031291</td>\n",
       "      <td>0.009617</td>\n",
       "    </tr>\n",
       "    <tr>\n",
       "      <th>15</th>\n",
       "      <td>C96</td>\n",
       "      <td>51.764645</td>\n",
       "      <td>0.031235</td>\n",
       "      <td>0.009600</td>\n",
       "    </tr>\n",
       "    <tr>\n",
       "      <th>16</th>\n",
       "      <td>C64</td>\n",
       "      <td>48.066929</td>\n",
       "      <td>0.029004</td>\n",
       "      <td>0.008914</td>\n",
       "    </tr>\n",
       "    <tr>\n",
       "      <th>17</th>\n",
       "      <td>C5</td>\n",
       "      <td>46.837605</td>\n",
       "      <td>0.028262</td>\n",
       "      <td>0.008686</td>\n",
       "    </tr>\n",
       "    <tr>\n",
       "      <th>18</th>\n",
       "      <td>C10</td>\n",
       "      <td>42.273628</td>\n",
       "      <td>0.025508</td>\n",
       "      <td>0.007840</td>\n",
       "    </tr>\n",
       "    <tr>\n",
       "      <th>19</th>\n",
       "      <td>C45</td>\n",
       "      <td>40.459599</td>\n",
       "      <td>0.024413</td>\n",
       "      <td>0.007503</td>\n",
       "    </tr>\n",
       "  </tbody>\n",
       "</table>\n",
       "</div>"
      ],
      "text/plain": [
       "   variable  relative_importance  scaled_importance  percentage\n",
       "0       C65          1657.267212           1.000000    0.307341\n",
       "1       C86           828.224915           0.499753    0.153595\n",
       "2       C79           356.392456           0.215048    0.066093\n",
       "3       C55           245.473816           0.148120    0.045523\n",
       "4       C47           153.084946           0.092372    0.028390\n",
       "5       C60           152.384048           0.091949    0.028260\n",
       "6       C53           101.948357           0.061516    0.018906\n",
       "7       C30            91.609894           0.055278    0.016989\n",
       "8       C33            91.276299           0.055076    0.016927\n",
       "9       C29            76.260124           0.046016    0.014142\n",
       "10      C83            76.148552           0.045948    0.014122\n",
       "11       C7            67.591118           0.040785    0.012535\n",
       "12      C36            66.079460           0.039873    0.012254\n",
       "13      C97            52.505928           0.031682    0.009737\n",
       "14      C19            51.858303           0.031291    0.009617\n",
       "15      C96            51.764645           0.031235    0.009600\n",
       "16      C64            48.066929           0.029004    0.008914\n",
       "17       C5            46.837605           0.028262    0.008686\n",
       "18      C10            42.273628           0.025508    0.007840\n",
       "19      C45            40.459599           0.024413    0.007503"
      ]
     },
     "metadata": {},
     "output_type": "display_data"
    },
    {
     "name": "stdout",
     "output_type": "stream",
     "text": [
      "\n",
      "See the whole table with table.as_data_frame()\n"
     ]
    },
    {
     "data": {
      "text/plain": []
     },
     "execution_count": 23,
     "metadata": {},
     "output_type": "execute_result"
    }
   ],
   "source": [
    "aml = H2OAutoML(max_models = 10, max_runtime_secs=1000, seed = 1)\n",
    "\n",
    "aml.train(x = vecs.names,\n",
    "                y=\"category\", \n",
    "                training_frame = data_split[0])"
   ]
  },
  {
   "cell_type": "code",
   "execution_count": 24,
   "id": "23aaa565",
   "metadata": {
    "execution": {
     "iopub.execute_input": "2021-11-19T04:19:56.755323Z",
     "iopub.status.busy": "2021-11-19T04:19:56.754455Z",
     "iopub.status.idle": "2021-11-19T04:19:56.844136Z",
     "shell.execute_reply": "2021-11-19T04:19:56.844971Z",
     "shell.execute_reply.started": "2021-11-19T04:09:47.791436Z"
    },
    "papermill": {
     "duration": 0.191159,
     "end_time": "2021-11-19T04:19:56.845181",
     "exception": false,
     "start_time": "2021-11-19T04:19:56.654022",
     "status": "completed"
    },
    "tags": []
   },
   "outputs": [
    {
     "data": {
      "text/html": [
       "<table>\n",
       "<thead>\n",
       "<tr><th>model_id                                              </th><th style=\"text-align: right;\">  mean_per_class_error</th><th style=\"text-align: right;\">  logloss</th><th style=\"text-align: right;\">    rmse</th><th style=\"text-align: right;\">      mse</th></tr>\n",
       "</thead>\n",
       "<tbody>\n",
       "<tr><td>XGBoost_3_AutoML_1_20211119_41145                     </td><td style=\"text-align: right;\">             0.0273181</td><td style=\"text-align: right;\">0.0715478</td><td style=\"text-align: right;\">0.123158</td><td style=\"text-align: right;\">0.0151679</td></tr>\n",
       "<tr><td>StackedEnsemble_AllModels_3_AutoML_1_20211119_41145   </td><td style=\"text-align: right;\">             0.027619 </td><td style=\"text-align: right;\">0.0752068</td><td style=\"text-align: right;\">0.117544</td><td style=\"text-align: right;\">0.0138166</td></tr>\n",
       "<tr><td>StackedEnsemble_BestOfFamily_6_AutoML_1_20211119_41145</td><td style=\"text-align: right;\">             0.028059 </td><td style=\"text-align: right;\">0.0670602</td><td style=\"text-align: right;\">0.12411 </td><td style=\"text-align: right;\">0.0154032</td></tr>\n",
       "<tr><td>XGBoost_1_AutoML_1_20211119_41145                     </td><td style=\"text-align: right;\">             0.0284805</td><td style=\"text-align: right;\">0.0730414</td><td style=\"text-align: right;\">0.129836</td><td style=\"text-align: right;\">0.0168573</td></tr>\n",
       "<tr><td>GBM_1_AutoML_1_20211119_41145                         </td><td style=\"text-align: right;\">             0.028499 </td><td style=\"text-align: right;\">0.0939574</td><td style=\"text-align: right;\">0.129165</td><td style=\"text-align: right;\">0.0166837</td></tr>\n",
       "<tr><td>XGBoost_2_AutoML_1_20211119_41145                     </td><td style=\"text-align: right;\">             0.028675 </td><td style=\"text-align: right;\">0.0748913</td><td style=\"text-align: right;\">0.125614</td><td style=\"text-align: right;\">0.0157789</td></tr>\n",
       "<tr><td>StackedEnsemble_AllModels_5_AutoML_1_20211119_41145   </td><td style=\"text-align: right;\">             0.0290639</td><td style=\"text-align: right;\">0.0664566</td><td style=\"text-align: right;\">0.122977</td><td style=\"text-align: right;\">0.0151233</td></tr>\n",
       "<tr><td>StackedEnsemble_BestOfFamily_2_AutoML_1_20211119_41145</td><td style=\"text-align: right;\">             0.0291334</td><td style=\"text-align: right;\">0.0690547</td><td style=\"text-align: right;\">0.125809</td><td style=\"text-align: right;\">0.0158278</td></tr>\n",
       "<tr><td>StackedEnsemble_AllModels_2_AutoML_1_20211119_41145   </td><td style=\"text-align: right;\">             0.0298048</td><td style=\"text-align: right;\">0.0642521</td><td style=\"text-align: right;\">0.121771</td><td style=\"text-align: right;\">0.0148281</td></tr>\n",
       "<tr><td>StackedEnsemble_BestOfFamily_3_AutoML_1_20211119_41145</td><td style=\"text-align: right;\">             0.0300688</td><td style=\"text-align: right;\">0.0645786</td><td style=\"text-align: right;\">0.122057</td><td style=\"text-align: right;\">0.014898 </td></tr>\n",
       "</tbody>\n",
       "</table>"
      ]
     },
     "metadata": {},
     "output_type": "display_data"
    },
    {
     "data": {
      "text/plain": []
     },
     "execution_count": 24,
     "metadata": {},
     "output_type": "execute_result"
    }
   ],
   "source": [
    "leader = aml.leaderboard\n",
    "\n",
    "leader.head()"
   ]
  },
  {
   "cell_type": "code",
   "execution_count": 25,
   "id": "44737a83",
   "metadata": {
    "execution": {
     "iopub.execute_input": "2021-11-19T04:19:57.042572Z",
     "iopub.status.busy": "2021-11-19T04:19:57.041757Z",
     "iopub.status.idle": "2021-11-19T04:19:57.055056Z",
     "shell.execute_reply": "2021-11-19T04:19:57.055761Z",
     "shell.execute_reply.started": "2021-11-19T04:09:51.620340Z"
    },
    "papermill": {
     "duration": 0.116991,
     "end_time": "2021-11-19T04:19:57.055943",
     "exception": false,
     "start_time": "2021-11-19T04:19:56.938952",
     "status": "completed"
    },
    "tags": []
   },
   "outputs": [
    {
     "data": {
      "text/html": [
       "<table>\n",
       "<thead>\n",
       "<tr><th>model_id                                              </th><th style=\"text-align: right;\">  mean_per_class_error</th><th style=\"text-align: right;\">  logloss</th><th style=\"text-align: right;\">    rmse</th><th style=\"text-align: right;\">      mse</th></tr>\n",
       "</thead>\n",
       "<tbody>\n",
       "<tr><td>XGBoost_3_AutoML_1_20211119_41145                     </td><td style=\"text-align: right;\">             0.0273181</td><td style=\"text-align: right;\">0.0715478</td><td style=\"text-align: right;\">0.123158</td><td style=\"text-align: right;\">0.0151679</td></tr>\n",
       "<tr><td>StackedEnsemble_AllModels_3_AutoML_1_20211119_41145   </td><td style=\"text-align: right;\">             0.027619 </td><td style=\"text-align: right;\">0.0752068</td><td style=\"text-align: right;\">0.117544</td><td style=\"text-align: right;\">0.0138166</td></tr>\n",
       "<tr><td>StackedEnsemble_BestOfFamily_6_AutoML_1_20211119_41145</td><td style=\"text-align: right;\">             0.028059 </td><td style=\"text-align: right;\">0.0670602</td><td style=\"text-align: right;\">0.12411 </td><td style=\"text-align: right;\">0.0154032</td></tr>\n",
       "<tr><td>XGBoost_1_AutoML_1_20211119_41145                     </td><td style=\"text-align: right;\">             0.0284805</td><td style=\"text-align: right;\">0.0730414</td><td style=\"text-align: right;\">0.129836</td><td style=\"text-align: right;\">0.0168573</td></tr>\n",
       "<tr><td>GBM_1_AutoML_1_20211119_41145                         </td><td style=\"text-align: right;\">             0.028499 </td><td style=\"text-align: right;\">0.0939574</td><td style=\"text-align: right;\">0.129165</td><td style=\"text-align: right;\">0.0166837</td></tr>\n",
       "<tr><td>XGBoost_2_AutoML_1_20211119_41145                     </td><td style=\"text-align: right;\">             0.028675 </td><td style=\"text-align: right;\">0.0748913</td><td style=\"text-align: right;\">0.125614</td><td style=\"text-align: right;\">0.0157789</td></tr>\n",
       "<tr><td>StackedEnsemble_AllModels_5_AutoML_1_20211119_41145   </td><td style=\"text-align: right;\">             0.0290639</td><td style=\"text-align: right;\">0.0664566</td><td style=\"text-align: right;\">0.122977</td><td style=\"text-align: right;\">0.0151233</td></tr>\n",
       "<tr><td>StackedEnsemble_BestOfFamily_2_AutoML_1_20211119_41145</td><td style=\"text-align: right;\">             0.0291334</td><td style=\"text-align: right;\">0.0690547</td><td style=\"text-align: right;\">0.125809</td><td style=\"text-align: right;\">0.0158278</td></tr>\n",
       "<tr><td>StackedEnsemble_AllModels_2_AutoML_1_20211119_41145   </td><td style=\"text-align: right;\">             0.0298048</td><td style=\"text-align: right;\">0.0642521</td><td style=\"text-align: right;\">0.121771</td><td style=\"text-align: right;\">0.0148281</td></tr>\n",
       "<tr><td>StackedEnsemble_BestOfFamily_3_AutoML_1_20211119_41145</td><td style=\"text-align: right;\">             0.0300688</td><td style=\"text-align: right;\">0.0645786</td><td style=\"text-align: right;\">0.122057</td><td style=\"text-align: right;\">0.014898 </td></tr>\n",
       "<tr><td>StackedEnsemble_BestOfFamily_1_AutoML_1_20211119_41145</td><td style=\"text-align: right;\">             0.0301383</td><td style=\"text-align: right;\">0.068596 </td><td style=\"text-align: right;\">0.125708</td><td style=\"text-align: right;\">0.0158025</td></tr>\n",
       "<tr><td>StackedEnsemble_AllModels_1_AutoML_1_20211119_41145   </td><td style=\"text-align: right;\">             0.0302448</td><td style=\"text-align: right;\">0.0663354</td><td style=\"text-align: right;\">0.123101</td><td style=\"text-align: right;\">0.0151537</td></tr>\n",
       "<tr><td>StackedEnsemble_AllModels_4_AutoML_1_20211119_41145   </td><td style=\"text-align: right;\">             0.0311801</td><td style=\"text-align: right;\">0.0982987</td><td style=\"text-align: right;\">0.127152</td><td style=\"text-align: right;\">0.0161675</td></tr>\n",
       "<tr><td>GBM_4_AutoML_1_20211119_41145                         </td><td style=\"text-align: right;\">             0.0312312</td><td style=\"text-align: right;\">0.111349 </td><td style=\"text-align: right;\">0.136409</td><td style=\"text-align: right;\">0.0186076</td></tr>\n",
       "<tr><td>GBM_3_AutoML_1_20211119_41145                         </td><td style=\"text-align: right;\">             0.0315137</td><td style=\"text-align: right;\">0.101025 </td><td style=\"text-align: right;\">0.130982</td><td style=\"text-align: right;\">0.0171564</td></tr>\n",
       "<tr><td>StackedEnsemble_BestOfFamily_4_AutoML_1_20211119_41145</td><td style=\"text-align: right;\">             0.0319906</td><td style=\"text-align: right;\">0.0818327</td><td style=\"text-align: right;\">0.126487</td><td style=\"text-align: right;\">0.0159989</td></tr>\n",
       "<tr><td>StackedEnsemble_BestOfFamily_5_AutoML_1_20211119_41145</td><td style=\"text-align: right;\">             0.0320786</td><td style=\"text-align: right;\">0.0977836</td><td style=\"text-align: right;\">0.131475</td><td style=\"text-align: right;\">0.0172858</td></tr>\n",
       "<tr><td>GBM_2_AutoML_1_20211119_41145                         </td><td style=\"text-align: right;\">             0.0323241</td><td style=\"text-align: right;\">0.108611 </td><td style=\"text-align: right;\">0.13714 </td><td style=\"text-align: right;\">0.0188074</td></tr>\n",
       "<tr><td>DRF_1_AutoML_1_20211119_41145                         </td><td style=\"text-align: right;\">             0.0345099</td><td style=\"text-align: right;\">0.153413 </td><td style=\"text-align: right;\">0.138843</td><td style=\"text-align: right;\">0.0192774</td></tr>\n",
       "<tr><td>XRT_1_AutoML_1_20211119_41145                         </td><td style=\"text-align: right;\">             0.0354268</td><td style=\"text-align: right;\">0.13289  </td><td style=\"text-align: right;\">0.138686</td><td style=\"text-align: right;\">0.0192337</td></tr>\n",
       "<tr><td>GLM_1_AutoML_1_20211119_41145                         </td><td style=\"text-align: right;\">             0.333333 </td><td style=\"text-align: right;\">0.333333 </td><td style=\"text-align: right;\">0.31638 </td><td style=\"text-align: right;\">0.100096 </td></tr>\n",
       "</tbody>\n",
       "</table>"
      ]
     },
     "metadata": {},
     "output_type": "display_data"
    },
    {
     "data": {
      "text/plain": []
     },
     "execution_count": 25,
     "metadata": {},
     "output_type": "execute_result"
    }
   ],
   "source": [
    "leader.head(rows=leader.nrows)"
   ]
  },
  {
   "cell_type": "code",
   "execution_count": 26,
   "id": "70fd0f39",
   "metadata": {
    "execution": {
     "iopub.execute_input": "2021-11-19T04:19:57.248632Z",
     "iopub.status.busy": "2021-11-19T04:19:57.247764Z",
     "iopub.status.idle": "2021-11-19T04:19:57.249466Z",
     "shell.execute_reply": "2021-11-19T04:19:57.250162Z",
     "shell.execute_reply.started": "2021-11-19T04:09:55.868038Z"
    },
    "papermill": {
     "duration": 0.102182,
     "end_time": "2021-11-19T04:19:57.250340",
     "exception": false,
     "start_time": "2021-11-19T04:19:57.148158",
     "status": "completed"
    },
    "tags": []
   },
   "outputs": [],
   "source": [
    "db_test = data_split[1]"
   ]
  },
  {
   "cell_type": "code",
   "execution_count": 27,
   "id": "75611a03",
   "metadata": {
    "execution": {
     "iopub.execute_input": "2021-11-19T04:19:57.451609Z",
     "iopub.status.busy": "2021-11-19T04:19:57.450770Z",
     "iopub.status.idle": "2021-11-19T04:19:57.767577Z",
     "shell.execute_reply": "2021-11-19T04:19:57.768264Z",
     "shell.execute_reply.started": "2021-11-19T04:10:02.187090Z"
    },
    "papermill": {
     "duration": 0.425418,
     "end_time": "2021-11-19T04:19:57.768526",
     "exception": false,
     "start_time": "2021-11-19T04:19:57.343108",
     "status": "completed"
    },
    "tags": []
   },
   "outputs": [
    {
     "name": "stdout",
     "output_type": "stream",
     "text": [
      "xgboost prediction progress: |███████████████████████████████████████████████████| (done) 100%\n"
     ]
    },
    {
     "name": "stderr",
     "output_type": "stream",
     "text": [
      "/opt/conda/lib/python3.7/site-packages/h2o/job.py:83: UserWarning: Test/Validation dataset is missing column 'C100': substituting in a column of NaN\n",
      "  warnings.warn(w)\n"
     ]
    }
   ],
   "source": [
    "predictions = aml.predict(db_test[:-1])"
   ]
  },
  {
   "cell_type": "code",
   "execution_count": 28,
   "id": "43bd92b2",
   "metadata": {
    "execution": {
     "iopub.execute_input": "2021-11-19T04:19:57.896893Z",
     "iopub.status.busy": "2021-11-19T04:19:57.896182Z",
     "iopub.status.idle": "2021-11-19T04:19:58.137053Z",
     "shell.execute_reply": "2021-11-19T04:19:58.138384Z",
     "shell.execute_reply.started": "2021-11-19T04:10:06.531036Z"
    },
    "papermill": {
     "duration": 0.308549,
     "end_time": "2021-11-19T04:19:58.138628",
     "exception": false,
     "start_time": "2021-11-19T04:19:57.830079",
     "status": "completed"
    },
    "tags": []
   },
   "outputs": [
    {
     "data": {
      "text/plain": [
       "predict    0.977961\n",
       "dtype: float64"
      ]
     },
     "execution_count": 28,
     "metadata": {},
     "output_type": "execute_result"
    }
   ],
   "source": [
    "(predictions['predict']==db_test['category']).as_data_frame(use_pandas=True).mean()"
   ]
  },
  {
   "cell_type": "code",
   "execution_count": null,
   "id": "b22ba96a",
   "metadata": {
    "papermill": {
     "duration": 0.108147,
     "end_time": "2021-11-19T04:19:58.364134",
     "exception": false,
     "start_time": "2021-11-19T04:19:58.255987",
     "status": "completed"
    },
    "tags": []
   },
   "outputs": [],
   "source": []
  }
 ],
 "metadata": {
  "kernelspec": {
   "display_name": "Python 3 (ipykernel)",
   "language": "python",
   "name": "python3"
  },
  "language_info": {
   "codemirror_mode": {
    "name": "ipython",
    "version": 3
   },
   "file_extension": ".py",
   "mimetype": "text/x-python",
   "name": "python",
   "nbconvert_exporter": "python",
   "pygments_lexer": "ipython3",
   "version": "3.11.4"
  },
  "papermill": {
   "default_parameters": {},
   "duration": 563.596369,
   "end_time": "2021-11-19T04:20:01.390350",
   "environment_variables": {},
   "exception": null,
   "input_path": "__notebook__.ipynb",
   "output_path": "__notebook__.ipynb",
   "parameters": {},
   "start_time": "2021-11-19T04:10:37.793981",
   "version": "2.3.3"
  }
 },
 "nbformat": 4,
 "nbformat_minor": 5
}
